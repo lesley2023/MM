{
  "nbformat": 4,
  "nbformat_minor": 0,
  "metadata": {
    "colab": {
      "provenance": [],
      "gpuType": "T4",
      "authorship_tag": "ABX9TyNgVr/7g6P5bVVTjx7LZXDf",
      "include_colab_link": true
    },
    "kernelspec": {
      "name": "python3",
      "display_name": "Python 3"
    },
    "language_info": {
      "name": "python"
    },
    "accelerator": "GPU"
  },
  "cells": [
    {
      "cell_type": "markdown",
      "metadata": {
        "id": "view-in-github",
        "colab_type": "text"
      },
      "source": [
        "<a href=\"https://colab.research.google.com/github/lesley2023/MM/blob/main/a1_code_q1b.ipynb\" target=\"_parent\"><img src=\"https://colab.research.google.com/assets/colab-badge.svg\" alt=\"Open In Colab\"/></a>"
      ]
    },
    {
      "cell_type": "code",
      "source": [
        "pip install numba"
      ],
      "metadata": {
        "colab": {
          "base_uri": "https://localhost:8080/"
        },
        "id": "n6ML1idptAA3",
        "outputId": "18c845cf-2f76-4e38-9d34-27d8ae01acbd"
      },
      "execution_count": null,
      "outputs": [
        {
          "output_type": "stream",
          "name": "stdout",
          "text": [
            "Requirement already satisfied: numba in /usr/local/lib/python3.10/dist-packages (0.58.1)\n",
            "Requirement already satisfied: llvmlite<0.42,>=0.41.0dev0 in /usr/local/lib/python3.10/dist-packages (from numba) (0.41.1)\n",
            "Requirement already satisfied: numpy<1.27,>=1.22 in /usr/local/lib/python3.10/dist-packages (from numba) (1.25.2)\n"
          ]
        }
      ]
    },
    {
      "cell_type": "code",
      "source": [
        "import numpy as np\n",
        "import scipy.stats as sts\n",
        "import time\n",
        "import timeit\n",
        "from numba.pycc import CC"
      ],
      "metadata": {
        "colab": {
          "base_uri": "https://localhost:8080/"
        },
        "id": "ETBhNf6xsbxy",
        "outputId": "a900fef7-da35-48d0-9b12-2e5e41b21d07"
      },
      "execution_count": null,
      "outputs": [
        {
          "output_type": "stream",
          "name": "stderr",
          "text": [
            "<ipython-input-2-df8fab950686>:5: NumbaPendingDeprecationWarning: The 'pycc' module is pending deprecation. Replacement technology is being developed.\n",
            "\n",
            "Pending Deprecation in Numba 0.57.0. For more information please see: https://numba.readthedocs.io/en/stable/reference/deprecation.html#deprecation-of-the-numba-pycc-module\n",
            "  from numba.pycc import CC\n"
          ]
        }
      ]
    },
    {
      "cell_type": "code",
      "source": [
        "# Define a function to inspect variable types within the loop\n",
        "def inspect_variable_types(rho, mu, sigma, z_0, S, T):\n",
        "    np.random.seed(25)\n",
        "    eps_mat = np.random.normal(loc=0, scale=sigma, size=(T, S))\n",
        "    z_mat = np.zeros((T, S))\n",
        "\n",
        "    variable_types = {}\n",
        "\n",
        "\n",
        "    if S > 0 and T > 0:\n",
        "        s_ind = 0\n",
        "        z_tm1 = z_0\n",
        "        t_ind = 0\n",
        "        e_t = eps_mat[t_ind, s_ind]\n",
        "        z_t = rho * z_tm1 + (1 - rho) * mu + e_t\n",
        "\n",
        "        # Collecting types\n",
        "        variable_types['rho'] = type(rho)\n",
        "        variable_types['mu'] = type(mu)\n",
        "        variable_types['sigma'] = type(sigma)\n",
        "        variable_types['z_0'] = type(z_0)\n",
        "        variable_types['eps_mat'] = type(eps_mat)\n",
        "        variable_types['z_mat'] = type(z_mat)\n",
        "        variable_types['s_ind'] = type(s_ind)\n",
        "        variable_types['z_tm1'] = type(z_tm1)\n",
        "        variable_types['t_ind'] = type(t_ind)\n",
        "        variable_types['e_t'] = type(e_t)\n",
        "        variable_types['z_t'] = type(z_t)\n",
        "\n",
        "    return variable_types"
      ],
      "metadata": {
        "id": "L_UIi6gbstmV"
      },
      "execution_count": null,
      "outputs": []
    },
    {
      "cell_type": "code",
      "source": [
        "# Example usage with some arbitrary parameters\n",
        "variable_types = inspect_variable_types(0.9, 0.1, 0.2, 1.0, 10, 10)\n",
        "for variable, var_type in variable_types.items():\n",
        "    print(f\"{variable}: {var_type}\")"
      ],
      "metadata": {
        "colab": {
          "base_uri": "https://localhost:8080/"
        },
        "id": "9ZUPP9Zyszkd",
        "outputId": "f11ef003-fe97-4755-cebd-889f0e96abd6"
      },
      "execution_count": null,
      "outputs": [
        {
          "output_type": "stream",
          "name": "stdout",
          "text": [
            "rho: <class 'float'>\n",
            "mu: <class 'float'>\n",
            "sigma: <class 'float'>\n",
            "z_0: <class 'float'>\n",
            "eps_mat: <class 'numpy.ndarray'>\n",
            "z_mat: <class 'numpy.ndarray'>\n",
            "s_ind: <class 'int'>\n",
            "z_tm1: <class 'float'>\n",
            "t_ind: <class 'int'>\n",
            "e_t: <class 'numpy.float64'>\n",
            "z_t: <class 'numpy.float64'>\n"
          ]
        }
      ]
    },
    {
      "cell_type": "code",
      "source": [
        "cc = CC('test_aot')\n",
        "\n",
        "@cc.export('loop_aot', 'f8[:,:](f8,f8,f8,f8,i4,i4)')\n",
        "def loop_aot(rho, mu, sigma, z_0, S, T):\n",
        "    np.random.seed(25)\n",
        "    eps_mat = np.random.normal(loc=0, scale=sigma, size=(T, S))\n",
        "    z_mat = np.zeros((T, S))\n",
        "    for s_ind in range(S):\n",
        "        z_tm1 = z_0\n",
        "        for t_ind in range(T):\n",
        "            e_t = eps_mat[t_ind, s_ind]\n",
        "            z_t = rho * z_tm1 + (1 - rho) * mu + e_t\n",
        "            z_mat[t_ind, s_ind] = z_t\n",
        "            z_tm1 = z_t\n",
        "    return z_mat\n",
        "\n",
        "cc.compile()\n",
        "import test_aot"
      ],
      "metadata": {
        "id": "ldptBb1ws25k"
      },
      "execution_count": null,
      "outputs": []
    },
    {
      "cell_type": "code",
      "execution_count": null,
      "metadata": {
        "id": "_ARmJy4csaM-"
      },
      "outputs": [],
      "source": [
        "rho = 0.5\n",
        "mu = 3.0\n",
        "sigma = 1.0\n",
        "z_0 = mu\n",
        "S = 1000\n",
        "T = 4160\n",
        "\n",
        "start_time = time.time()\n",
        "\n",
        "# Simulate with original Python code\n",
        "np.random.seed(25)\n",
        "eps_mat = sts.norm.rvs(loc=0, scale=sigma, size=(T, S))\n",
        "z_mat = np.zeros((T, S))\n",
        "for s_ind in range(S):\n",
        "    z_tm1 = z_0\n",
        "    for t_ind in range(T):\n",
        "        e_t = eps_mat[t_ind, s_ind]\n",
        "        z_t = rho * z_tm1 + (1 - rho) * mu + e_t\n",
        "        z_mat[t_ind, s_ind] = z_t\n",
        "        z_tm1 = z_t\n",
        "\n",
        "total_time_original = time.time() - start_time"
      ]
    },
    {
      "cell_type": "code",
      "source": [
        "timing_globals = {\n",
        "    \"rho\": rho,\n",
        "    \"mu\": mu,\n",
        "    \"sigma\": sigma,\n",
        "    \"z_0\": z_0,\n",
        "    \"S\": S,\n",
        "    \"T\": T,\n",
        "    \"loop_aot\": test_aot.loop_aot\n",
        "}"
      ],
      "metadata": {
        "id": "EtQ2xpLWtMk9"
      },
      "execution_count": null,
      "outputs": []
    },
    {
      "cell_type": "code",
      "source": [
        "# Timing the AOT compiled version\n",
        "aot_time = timeit.timeit(\"loop_aot(rho, mu, sigma, z_0, S, T)\", globals=timing_globals, number=10)\n",
        "\n",
        "# Calculating and displaying the speedup\n",
        "speedup_factor = total_time_original / aot_time\n",
        "print(f\"Original code time: {total_time_original:.2f} seconds\")\n",
        "print(f\"AOT compiled code time: {aot_time:.2f} seconds\")\n",
        "print(f\"AOT compiled version is {speedup_factor:.2f} times faster.\")\n"
      ],
      "metadata": {
        "colab": {
          "base_uri": "https://localhost:8080/"
        },
        "id": "UC36boIBtOTj",
        "outputId": "a7799fc8-900f-47a8-a91d-2ff9ec151f70"
      },
      "execution_count": null,
      "outputs": [
        {
          "output_type": "stream",
          "name": "stdout",
          "text": [
            "Original code time: 5.20 seconds\n",
            "AOT compiled code time: 2.38 seconds\n",
            "AOT compiled version is 2.19 times faster.\n"
          ]
        }
      ]
    }
  ]
}